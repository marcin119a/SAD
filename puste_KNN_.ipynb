{
  "nbformat": 4,
  "nbformat_minor": 0,
  "metadata": {
    "colab": {
      "provenance": [],
      "authorship_tag": "ABX9TyPIsBTpc86e3+7+zUbe81fB",
      "include_colab_link": true
    },
    "kernelspec": {
      "name": "python3",
      "display_name": "Python 3"
    },
    "language_info": {
      "name": "python"
    }
  },
  "cells": [
    {
      "cell_type": "markdown",
      "metadata": {
        "id": "view-in-github",
        "colab_type": "text"
      },
      "source": [
        "<a href=\"https://colab.research.google.com/github/marcin119a/SAD/blob/main/puste_KNN_.ipynb\" target=\"_parent\"><img src=\"https://colab.research.google.com/assets/colab-badge.svg\" alt=\"Open In Colab\"/></a>"
      ]
    },
    {
      "cell_type": "markdown",
      "source": [
        "\n",
        "### Zadanie 1: Predykcja ceny zamknięcia z użyciem KNN\n",
        "**Treść zadania**: Używając danych historycznych o cenie zamknięcia, zbuduj model KNN, który przewiduje cenę zamknięcia na podstawie średniej ceny zamknięcia z ostatnich 10 dni.\n",
        "\n",
        "**Kroki**:\n",
        "* Podziel dane na zbiór treningowy i testowy.\n",
        "* Skonfiguruj model KNN do regresji, wybierając odpowiednią wartość \\( k \\).\n",
        "* Wytrenuj model KNN na danych treningowych.\n",
        "* Dokonaj predykcji ceny zamknięcia na zbiorze testowym i oblicz błędy, takie jak RMSE (Root Mean Square Error).\n",
        "\n",
        "---\n"
      ],
      "metadata": {
        "id": "nyg6872j5LT3"
      }
    },
    {
      "cell_type": "code",
      "source": [],
      "metadata": {
        "id": "CZaOIP7T5c79"
      },
      "execution_count": null,
      "outputs": []
    },
    {
      "cell_type": "markdown",
      "source": [
        "\n",
        "### Zadanie 2: Imputacja, Predykcja płci osoby zatrudnionej oraz pensji z użyciem KNN\n",
        "\n",
        "**Treść zadania**: Masz zbiór danych dotyczący pracowników, który zawiera takie zmienne jak Age, Gender, Education Level, Job Title, Years of Experience oraz Salary. W niektórych przypadkach dane są niekompletne, szczególnie brakuje wartości w kolumnach Age, Years of Experience oraz Salary.\n",
        "\n",
        "* Twoim zadaniem jest przeprowadzenie imputacji brakujących wartości z wykorzystaniem algorytmu KNN.\n",
        "\n",
        "**Kroki**:\n",
        "* Wczytaj dane i zidentyfikuj brakujące wartości w kolumnach Age, Years of Experience i Salary.\n",
        "* Skonfiguruj model KNN do imputacji brakujących danych (można użyć `KNNImputer` z `sklearn`).\n",
        "* Przeprowadź imputację brakujących wartości w danych.\n",
        "* Zapisz uzupełnione dane i użyj ich do dalszej analizy.\n"
      ],
      "metadata": {
        "id": "4yIPTDdG5dFI"
      }
    },
    {
      "cell_type": "code",
      "source": [],
      "metadata": {
        "id": "M7O20uiy5qZ-"
      },
      "execution_count": null,
      "outputs": []
    },
    {
      "cell_type": "markdown",
      "source": [
        "\n",
        "---\n",
        "\n",
        "### Zadanie 2.2: Klasyfikacja płci przy użyciu KNN\n",
        "\n",
        "**Treść zadania**: Wykorzystując zbiór danych oryginalnych wartości, zbuduj model klasyfikacyjny KNN, który przewiduje płeć pracownika (Gender) na podstawie innych zmiennych, takich jak Age, Education Level, Job Title, Years of Experience oraz Salary.\n",
        "\n",
        "**Kroki**:\n",
        "* Wczytaj dane oryginalnych wartości.\n",
        "* Zakoduj zmienne kategoryczne, takie jak Education Level i Job Title, używając metody `get_dummies`.\n",
        "* Podziel dane na zbiór treningowy i testowy.\n",
        "* Skonfiguruj model KNN do klasyfikacji, wybierając odpowiednią wartość \\( k \\).\n",
        "* Wytrenuj model KNN na zbiorze treningowym, aby przewidzieć płeć (Gender).\n",
        "* Oceń jakość modelu, korzystając z metryk takich jak accuracy, precision, recall oraz macierz konfuzji.\n",
        "\n"
      ],
      "metadata": {
        "id": "Fj516q-D5po4"
      }
    },
    {
      "cell_type": "code",
      "source": [],
      "metadata": {
        "id": "pS_tgDlY6VLc"
      },
      "execution_count": null,
      "outputs": []
    },
    {
      "cell_type": "markdown",
      "source": [
        "---\n",
        "\n",
        "### Zadanie 2.3: Predykcja wynagrodzenia z użyciem KNN\n",
        "\n",
        "**Treść zadania**: Używając zbioru danych po imputacji, który zawiera informacje takie jak Age (wiek), Gender (płeć) oraz Years of Experience (lata doświadczenia), zbuduj model KNN, który przewiduje wysokość wynagrodzenia (Salary).\n",
        "\n",
        "**Kroki do wykonania**:\n",
        "* Zakoduj zmienną Gender na wartości numeryczne (np. 0 dla Female i 1 dla Male).\n",
        "* Wybierz zmienne Age, Gender oraz Years of Experience jako zmienne predykcyjne (X).\n",
        "* Salary ustaw jako zmienną docelową (y).\n",
        "* Podziel dane na zbiór treningowy i testowy.\n",
        "* Skonfiguruj model KNN do regresji, wybierając odpowiednią wartość \\( k \\).\n",
        "* Wytrenuj model KNN na zbiorze treningowym.\n",
        "* Przeprowadź predykcję na zbiorze testowym i oblicz wskaźniki jakości modelu, takie jak współczynnik determinacji (R²) oraz RMSE (Root Mean Square Error).\n",
        "* Narysuj wykres porównujący rzeczywiste i przewidywane wynagrodzenia dla zbioru testowego.\n",
        "\n",
        "---\n",
        "\n",
        "### Przykładowe pytania:\n",
        "- Jakie wartości \\( k \\) są optymalne dla modeli KNN, aby uzyskać najlepszą dokładność klasyfikacji lub najniższy błąd regresji?\n",
        "- Czy imputacja za pomocą KNN daje lepsze wyniki niż inne metody, takie jak średnia lub mediana?\n",
        "- Czy model KNN lepiej przewiduje wynagrodzenie na podstawie wieku i doświadczenia w porównaniu do regresji liniowej?\n",
        "\n"
      ],
      "metadata": {
        "id": "Xjx2sbFk6Uf6"
      }
    },
    {
      "cell_type": "code",
      "source": [],
      "metadata": {
        "id": "a_g1CIg95L9W"
      },
      "execution_count": null,
      "outputs": []
    }
  ]
}